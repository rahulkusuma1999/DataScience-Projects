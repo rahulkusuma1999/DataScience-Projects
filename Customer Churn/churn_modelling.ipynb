{
  "nbformat": 4,
  "nbformat_minor": 0,
  "metadata": {
    "colab": {
      "name": "churn_modelling.ipynb",
      "provenance": [],
      "toc_visible": true
    },
    "kernelspec": {
      "name": "python3",
      "display_name": "Python 3"
    },
    "accelerator": "GPU"
  },
  "cells": [
    {
      "cell_type": "code",
      "metadata": {
        "id": "QmX-MGFaQCgY",
        "colab_type": "code",
        "colab": {}
      },
      "source": [
        "\n",
        "import tensorflow"
      ],
      "execution_count": 0,
      "outputs": []
    },
    {
      "cell_type": "code",
      "metadata": {
        "id": "0x3cwt_UQNDa",
        "colab_type": "code",
        "colab": {}
      },
      "source": [
        "import keras"
      ],
      "execution_count": 0,
      "outputs": []
    },
    {
      "cell_type": "code",
      "metadata": {
        "id": "GH9KxLTmQOxX",
        "colab_type": "code",
        "colab": {}
      },
      "source": [
        "\n",
        "\n",
        "\n",
        "import numpy as np\n",
        "import matplotlib.pyplot as plt\n",
        "import pandas as pd"
      ],
      "execution_count": 0,
      "outputs": []
    },
    {
      "cell_type": "code",
      "metadata": {
        "id": "aUWp0ScFQU0h",
        "colab_type": "code",
        "colab": {}
      },
      "source": [
        "\n",
        "dataset = pd.read_csv('Churn_Modelling.csv')\n",
        "X= dataset.iloc[:, 3:13].values\n",
        "y = dataset.iloc[:, 13].values"
      ],
      "execution_count": 0,
      "outputs": []
    },
    {
      "cell_type": "markdown",
      "metadata": {
        "id": "6L_A9IqhRddr",
        "colab_type": "text"
      },
      "source": [
        "# New Section"
      ]
    },
    {
      "cell_type": "code",
      "metadata": {
        "id": "Jjp4Fh78QkQ2",
        "colab_type": "code",
        "colab": {
          "resources": {
            "http://localhost:8080/nbextensions/google.colab/files.js": {
              "data": "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",
              "ok": true,
              "headers": [
                [
                  "content-type",
                  "application/javascript"
                ]
              ],
              "status": 200,
              "status_text": ""
            }
          },
          "base_uri": "https://localhost:8080/",
          "height": 74
        },
        "outputId": "83541d36-9079-4b74-e29a-e2a470909e72"
      },
      "source": [
        "from google.colab import files\n",
        "uploaded = files.upload()"
      ],
      "execution_count": 4,
      "outputs": [
        {
          "output_type": "display_data",
          "data": {
            "text/html": [
              "\n",
              "     <input type=\"file\" id=\"files-d992cdd2-4c2b-44f5-98b9-2a483f086f70\" name=\"files[]\" multiple disabled />\n",
              "     <output id=\"result-d992cdd2-4c2b-44f5-98b9-2a483f086f70\">\n",
              "      Upload widget is only available when the cell has been executed in the\n",
              "      current browser session. Please rerun this cell to enable.\n",
              "      </output>\n",
              "      <script src=\"/nbextensions/google.colab/files.js\"></script> "
            ],
            "text/plain": [
              "<IPython.core.display.HTML object>"
            ]
          },
          "metadata": {
            "tags": []
          }
        },
        {
          "output_type": "stream",
          "text": [
            "Saving Churn_Modelling.csv to Churn_Modelling.csv\n"
          ],
          "name": "stdout"
        }
      ]
    },
    {
      "cell_type": "code",
      "metadata": {
        "id": "ZuPb_pj4SGil",
        "colab_type": "code",
        "colab": {}
      },
      "source": [
        "from sklearn.preprocessing import LabelEncoder, OneHotEncoder\n",
        "labelencoder_X_1 = LabelEncoder()\n",
        "X[:, 1] = labelencoder_X_1.fit_transform(X[:, 1])"
      ],
      "execution_count": 0,
      "outputs": []
    },
    {
      "cell_type": "code",
      "metadata": {
        "id": "z6k2s8gASG0b",
        "colab_type": "code",
        "colab": {}
      },
      "source": [
        "labelencoder_X_2 = LabelEncoder()\n",
        "X[:, 2] = labelencoder_X_2.fit_transform(X[:, 2])"
      ],
      "execution_count": 0,
      "outputs": []
    },
    {
      "cell_type": "code",
      "metadata": {
        "id": "R0tBRGIlRhQz",
        "colab_type": "code",
        "colab": {
          "base_uri": "https://localhost:8080/",
          "height": 180
        },
        "outputId": "6d3f5db6-10a9-4ee2-90f3-a16fd0cf670f"
      },
      "source": [
        "onehotencoder = OneHotEncoder(categorical_features = [1])\n",
        "X = onehotencoder.fit_transform(X).toarray()"
      ],
      "execution_count": 80,
      "outputs": [
        {
          "output_type": "error",
          "ename": "TypeError",
          "evalue": "ignored",
          "traceback": [
            "\u001b[0;31m---------------------------------------------------------------------------\u001b[0m",
            "\u001b[0;31mTypeError\u001b[0m                                 Traceback (most recent call last)",
            "\u001b[0;32m<ipython-input-80-9701b969eed6>\u001b[0m in \u001b[0;36m<module>\u001b[0;34m()\u001b[0m\n\u001b[0;32m----> 1\u001b[0;31m \u001b[0monehotencoder\u001b[0m \u001b[0;34m=\u001b[0m \u001b[0mOneHotEncoder\u001b[0m\u001b[0;34m(\u001b[0m\u001b[0mcategorical_features\u001b[0m \u001b[0;34m=\u001b[0m \u001b[0;34m[\u001b[0m\u001b[0;36m1\u001b[0m\u001b[0;34m]\u001b[0m\u001b[0;34m)\u001b[0m\u001b[0;34m\u001b[0m\u001b[0;34m\u001b[0m\u001b[0m\n\u001b[0m\u001b[1;32m      2\u001b[0m \u001b[0mX\u001b[0m \u001b[0;34m=\u001b[0m \u001b[0monehotencoder\u001b[0m\u001b[0;34m.\u001b[0m\u001b[0mfit_transform\u001b[0m\u001b[0;34m(\u001b[0m\u001b[0mX\u001b[0m\u001b[0;34m)\u001b[0m\u001b[0;34m.\u001b[0m\u001b[0mtoarray\u001b[0m\u001b[0;34m(\u001b[0m\u001b[0;34m)\u001b[0m\u001b[0;34m\u001b[0m\u001b[0;34m\u001b[0m\u001b[0m\n",
            "\u001b[0;31mTypeError\u001b[0m: __init__() got an unexpected keyword argument 'categorical_features'"
          ]
        }
      ]
    },
    {
      "cell_type": "code",
      "metadata": {
        "id": "y0Cd4sZZSUJM",
        "colab_type": "code",
        "colab": {}
      },
      "source": [
        "from sklearn.model_selection import train_test_split\n",
        "X_train, X_test, y_train, y_test = train_test_split(X, y, test_size = 0.2, random_state = 0)"
      ],
      "execution_count": 0,
      "outputs": []
    },
    {
      "cell_type": "code",
      "metadata": {
        "id": "w152OgxWSUMb",
        "colab_type": "code",
        "colab": {}
      },
      "source": [
        "from sklearn.preprocessing import StandardScaler\n",
        "sc = StandardScaler()\n",
        "X_train = sc.fit_transform(X_train)\n",
        "X_test = sc.transform(X_test)"
      ],
      "execution_count": 0,
      "outputs": []
    },
    {
      "cell_type": "code",
      "metadata": {
        "id": "xCY7raQiSUPI",
        "colab_type": "code",
        "colab": {}
      },
      "source": [
        "from keras.models import Sequential\n",
        "from keras.layers import Dense"
      ],
      "execution_count": 0,
      "outputs": []
    },
    {
      "cell_type": "code",
      "metadata": {
        "id": "mDI0k1yZSUT-",
        "colab_type": "code",
        "colab": {
          "base_uri": "https://localhost:8080/",
          "height": 71
        },
        "outputId": "dee75d78-7a81-4ed2-ad18-0ccab3a6bdcc"
      },
      "source": [
        "classifier.add(Dense(output_dim=6,init='uniform',activation='relu',input_dim=10))"
      ],
      "execution_count": 84,
      "outputs": [
        {
          "output_type": "stream",
          "text": [
            "/usr/local/lib/python3.6/dist-packages/ipykernel_launcher.py:1: UserWarning: Update your `Dense` call to the Keras 2 API: `Dense(activation=\"relu\", input_dim=10, units=6, kernel_initializer=\"uniform\")`\n",
            "  \"\"\"Entry point for launching an IPython kernel.\n"
          ],
          "name": "stderr"
        }
      ]
    },
    {
      "cell_type": "code",
      "metadata": {
        "id": "b0a9LXetSeC7",
        "colab_type": "code",
        "colab": {}
      },
      "source": [
        "classifier=Sequential()"
      ],
      "execution_count": 0,
      "outputs": []
    },
    {
      "cell_type": "code",
      "metadata": {
        "id": "-omKEz0ISeF4",
        "colab_type": "code",
        "colab": {
          "base_uri": "https://localhost:8080/",
          "height": 71
        },
        "outputId": "36c1aa94-52d7-4098-e4a1-fa695ef8f073"
      },
      "source": [
        "classifier.add(Dense(output_dim=6,init='uniform',activation='relu'))"
      ],
      "execution_count": 86,
      "outputs": [
        {
          "output_type": "stream",
          "text": [
            "/usr/local/lib/python3.6/dist-packages/ipykernel_launcher.py:1: UserWarning: Update your `Dense` call to the Keras 2 API: `Dense(activation=\"relu\", units=6, kernel_initializer=\"uniform\")`\n",
            "  \"\"\"Entry point for launching an IPython kernel.\n"
          ],
          "name": "stderr"
        }
      ]
    },
    {
      "cell_type": "code",
      "metadata": {
        "id": "SqjXxeTxXKDH",
        "colab_type": "code",
        "colab": {}
      },
      "source": [
        ""
      ],
      "execution_count": 0,
      "outputs": []
    },
    {
      "cell_type": "code",
      "metadata": {
        "id": "M2kjdnaoSeIj",
        "colab_type": "code",
        "colab": {
          "base_uri": "https://localhost:8080/",
          "height": 71
        },
        "outputId": "be784221-a753-45ff-a81c-38182f0b504f"
      },
      "source": [
        "classifier.add(Dense(output_dim=1,init='uniform',activation='sigmoid'))"
      ],
      "execution_count": 87,
      "outputs": [
        {
          "output_type": "stream",
          "text": [
            "/usr/local/lib/python3.6/dist-packages/ipykernel_launcher.py:1: UserWarning: Update your `Dense` call to the Keras 2 API: `Dense(activation=\"sigmoid\", units=1, kernel_initializer=\"uniform\")`\n",
            "  \"\"\"Entry point for launching an IPython kernel.\n"
          ],
          "name": "stderr"
        }
      ]
    },
    {
      "cell_type": "code",
      "metadata": {
        "id": "5cQHXbhKSeK5",
        "colab_type": "code",
        "colab": {}
      },
      "source": [
        "classifier.compile(optimizer='adam',loss='binary_crossentropy',metrics=['accuracy'])"
      ],
      "execution_count": 0,
      "outputs": []
    },
    {
      "cell_type": "code",
      "metadata": {
        "id": "v4RxPW_KSeNg",
        "colab_type": "code",
        "colab": {
          "base_uri": "https://localhost:8080/",
          "height": 1000
        },
        "outputId": "c651eeef-7141-466d-a535-c79bd757b830"
      },
      "source": [
        "classifier.fit(X_train,y_train, batch_size=10,epochs=100)"
      ],
      "execution_count": 89,
      "outputs": [
        {
          "output_type": "stream",
          "text": [
            "Epoch 1/100\n",
            "8000/8000 [==============================] - 2s 249us/step - loss: 0.5022 - accuracy: 0.7951\n",
            "Epoch 2/100\n",
            "8000/8000 [==============================] - 2s 241us/step - loss: 0.4226 - accuracy: 0.8148\n",
            "Epoch 3/100\n",
            "8000/8000 [==============================] - 2s 242us/step - loss: 0.4110 - accuracy: 0.8227\n",
            "Epoch 4/100\n",
            "8000/8000 [==============================] - 2s 240us/step - loss: 0.4032 - accuracy: 0.8251\n",
            "Epoch 5/100\n",
            "8000/8000 [==============================] - 2s 242us/step - loss: 0.3975 - accuracy: 0.8267\n",
            "Epoch 6/100\n",
            "8000/8000 [==============================] - 2s 247us/step - loss: 0.3928 - accuracy: 0.8284\n",
            "Epoch 7/100\n",
            "8000/8000 [==============================] - 2s 255us/step - loss: 0.3894 - accuracy: 0.8276\n",
            "Epoch 8/100\n",
            "8000/8000 [==============================] - 2s 257us/step - loss: 0.3866 - accuracy: 0.8285\n",
            "Epoch 9/100\n",
            "8000/8000 [==============================] - 2s 256us/step - loss: 0.3841 - accuracy: 0.8294\n",
            "Epoch 10/100\n",
            "8000/8000 [==============================] - 2s 259us/step - loss: 0.3824 - accuracy: 0.8394\n",
            "Epoch 11/100\n",
            "8000/8000 [==============================] - 2s 255us/step - loss: 0.3807 - accuracy: 0.8405\n",
            "Epoch 12/100\n",
            "8000/8000 [==============================] - 2s 241us/step - loss: 0.3796 - accuracy: 0.8429\n",
            "Epoch 13/100\n",
            "8000/8000 [==============================] - 2s 251us/step - loss: 0.3783 - accuracy: 0.8422\n",
            "Epoch 14/100\n",
            "8000/8000 [==============================] - 2s 246us/step - loss: 0.3769 - accuracy: 0.8439\n",
            "Epoch 15/100\n",
            "8000/8000 [==============================] - 2s 242us/step - loss: 0.3757 - accuracy: 0.8444\n",
            "Epoch 16/100\n",
            "8000/8000 [==============================] - 2s 243us/step - loss: 0.3749 - accuracy: 0.8422\n",
            "Epoch 17/100\n",
            "8000/8000 [==============================] - 2s 246us/step - loss: 0.3744 - accuracy: 0.8450\n",
            "Epoch 18/100\n",
            "8000/8000 [==============================] - 2s 241us/step - loss: 0.3735 - accuracy: 0.8445\n",
            "Epoch 19/100\n",
            "8000/8000 [==============================] - 2s 244us/step - loss: 0.3721 - accuracy: 0.8453\n",
            "Epoch 20/100\n",
            "8000/8000 [==============================] - 2s 246us/step - loss: 0.3719 - accuracy: 0.8446\n",
            "Epoch 21/100\n",
            "8000/8000 [==============================] - 2s 246us/step - loss: 0.3710 - accuracy: 0.8486\n",
            "Epoch 22/100\n",
            "8000/8000 [==============================] - 2s 246us/step - loss: 0.3707 - accuracy: 0.8480\n",
            "Epoch 23/100\n",
            "8000/8000 [==============================] - 2s 245us/step - loss: 0.3698 - accuracy: 0.8475\n",
            "Epoch 24/100\n",
            "8000/8000 [==============================] - 2s 244us/step - loss: 0.3687 - accuracy: 0.8497\n",
            "Epoch 25/100\n",
            "8000/8000 [==============================] - 2s 243us/step - loss: 0.3683 - accuracy: 0.8484\n",
            "Epoch 26/100\n",
            "8000/8000 [==============================] - 2s 246us/step - loss: 0.3672 - accuracy: 0.8478\n",
            "Epoch 27/100\n",
            "8000/8000 [==============================] - 2s 247us/step - loss: 0.3672 - accuracy: 0.8484\n",
            "Epoch 28/100\n",
            "8000/8000 [==============================] - 2s 244us/step - loss: 0.3665 - accuracy: 0.8506\n",
            "Epoch 29/100\n",
            "8000/8000 [==============================] - 2s 246us/step - loss: 0.3657 - accuracy: 0.8515\n",
            "Epoch 30/100\n",
            "8000/8000 [==============================] - 2s 240us/step - loss: 0.3649 - accuracy: 0.8503\n",
            "Epoch 31/100\n",
            "8000/8000 [==============================] - 2s 239us/step - loss: 0.3643 - accuracy: 0.8499\n",
            "Epoch 32/100\n",
            "8000/8000 [==============================] - 2s 240us/step - loss: 0.3636 - accuracy: 0.8520\n",
            "Epoch 33/100\n",
            "8000/8000 [==============================] - 2s 242us/step - loss: 0.3632 - accuracy: 0.8519\n",
            "Epoch 34/100\n",
            "8000/8000 [==============================] - 2s 254us/step - loss: 0.3623 - accuracy: 0.8508\n",
            "Epoch 35/100\n",
            "8000/8000 [==============================] - 2s 254us/step - loss: 0.3618 - accuracy: 0.8531\n",
            "Epoch 36/100\n",
            "8000/8000 [==============================] - 2s 246us/step - loss: 0.3612 - accuracy: 0.8514\n",
            "Epoch 37/100\n",
            "8000/8000 [==============================] - 2s 236us/step - loss: 0.3616 - accuracy: 0.8506\n",
            "Epoch 38/100\n",
            "8000/8000 [==============================] - 2s 237us/step - loss: 0.3608 - accuracy: 0.8528\n",
            "Epoch 39/100\n",
            "8000/8000 [==============================] - 2s 236us/step - loss: 0.3602 - accuracy: 0.8534\n",
            "Epoch 40/100\n",
            "8000/8000 [==============================] - 2s 237us/step - loss: 0.3598 - accuracy: 0.8514\n",
            "Epoch 41/100\n",
            "8000/8000 [==============================] - 2s 239us/step - loss: 0.3602 - accuracy: 0.8501\n",
            "Epoch 42/100\n",
            "8000/8000 [==============================] - 2s 242us/step - loss: 0.3597 - accuracy: 0.8525\n",
            "Epoch 43/100\n",
            "8000/8000 [==============================] - 2s 238us/step - loss: 0.3590 - accuracy: 0.8508\n",
            "Epoch 44/100\n",
            "8000/8000 [==============================] - 2s 235us/step - loss: 0.3587 - accuracy: 0.8530\n",
            "Epoch 45/100\n",
            "8000/8000 [==============================] - 2s 239us/step - loss: 0.3588 - accuracy: 0.8515\n",
            "Epoch 46/100\n",
            "8000/8000 [==============================] - 2s 239us/step - loss: 0.3581 - accuracy: 0.8526\n",
            "Epoch 47/100\n",
            "8000/8000 [==============================] - 2s 239us/step - loss: 0.3577 - accuracy: 0.8544\n",
            "Epoch 48/100\n",
            "8000/8000 [==============================] - 2s 235us/step - loss: 0.3576 - accuracy: 0.8531\n",
            "Epoch 49/100\n",
            "8000/8000 [==============================] - 2s 235us/step - loss: 0.3578 - accuracy: 0.8508\n",
            "Epoch 50/100\n",
            "8000/8000 [==============================] - 2s 232us/step - loss: 0.3569 - accuracy: 0.8545\n",
            "Epoch 51/100\n",
            "8000/8000 [==============================] - 2s 237us/step - loss: 0.3563 - accuracy: 0.8543\n",
            "Epoch 52/100\n",
            "8000/8000 [==============================] - 2s 234us/step - loss: 0.3566 - accuracy: 0.8528\n",
            "Epoch 53/100\n",
            "8000/8000 [==============================] - 2s 234us/step - loss: 0.3563 - accuracy: 0.8554\n",
            "Epoch 54/100\n",
            "8000/8000 [==============================] - 2s 233us/step - loss: 0.3560 - accuracy: 0.8541\n",
            "Epoch 55/100\n",
            "8000/8000 [==============================] - 2s 236us/step - loss: 0.3562 - accuracy: 0.8544\n",
            "Epoch 56/100\n",
            "8000/8000 [==============================] - 2s 239us/step - loss: 0.3555 - accuracy: 0.8550\n",
            "Epoch 57/100\n",
            "8000/8000 [==============================] - 2s 236us/step - loss: 0.3553 - accuracy: 0.8537\n",
            "Epoch 58/100\n",
            "8000/8000 [==============================] - 2s 235us/step - loss: 0.3552 - accuracy: 0.8537\n",
            "Epoch 59/100\n",
            "8000/8000 [==============================] - 2s 233us/step - loss: 0.3552 - accuracy: 0.8529\n",
            "Epoch 60/100\n",
            "8000/8000 [==============================] - 2s 236us/step - loss: 0.3552 - accuracy: 0.8551\n",
            "Epoch 61/100\n",
            "8000/8000 [==============================] - 2s 239us/step - loss: 0.3546 - accuracy: 0.8564\n",
            "Epoch 62/100\n",
            "8000/8000 [==============================] - 2s 236us/step - loss: 0.3546 - accuracy: 0.8541\n",
            "Epoch 63/100\n",
            "8000/8000 [==============================] - 2s 237us/step - loss: 0.3546 - accuracy: 0.8533\n",
            "Epoch 64/100\n",
            "8000/8000 [==============================] - 2s 239us/step - loss: 0.3540 - accuracy: 0.8556\n",
            "Epoch 65/100\n",
            "8000/8000 [==============================] - 2s 239us/step - loss: 0.3540 - accuracy: 0.8564\n",
            "Epoch 66/100\n",
            "8000/8000 [==============================] - 2s 237us/step - loss: 0.3537 - accuracy: 0.8520\n",
            "Epoch 67/100\n",
            "8000/8000 [==============================] - 2s 237us/step - loss: 0.3536 - accuracy: 0.8554\n",
            "Epoch 68/100\n",
            "8000/8000 [==============================] - 2s 237us/step - loss: 0.3537 - accuracy: 0.8550\n",
            "Epoch 69/100\n",
            "8000/8000 [==============================] - 2s 235us/step - loss: 0.3535 - accuracy: 0.8545\n",
            "Epoch 70/100\n",
            "8000/8000 [==============================] - 2s 242us/step - loss: 0.3533 - accuracy: 0.8541\n",
            "Epoch 71/100\n",
            "8000/8000 [==============================] - 2s 239us/step - loss: 0.3535 - accuracy: 0.8559\n",
            "Epoch 72/100\n",
            "8000/8000 [==============================] - 2s 234us/step - loss: 0.3530 - accuracy: 0.8561\n",
            "Epoch 73/100\n",
            "8000/8000 [==============================] - 2s 234us/step - loss: 0.3528 - accuracy: 0.8533\n",
            "Epoch 74/100\n",
            "8000/8000 [==============================] - 2s 236us/step - loss: 0.3533 - accuracy: 0.8559\n",
            "Epoch 75/100\n",
            "8000/8000 [==============================] - 2s 238us/step - loss: 0.3528 - accuracy: 0.8528\n",
            "Epoch 76/100\n",
            "8000/8000 [==============================] - 2s 233us/step - loss: 0.3528 - accuracy: 0.8549\n",
            "Epoch 77/100\n",
            "8000/8000 [==============================] - 2s 234us/step - loss: 0.3521 - accuracy: 0.8553\n",
            "Epoch 78/100\n",
            "8000/8000 [==============================] - 2s 233us/step - loss: 0.3524 - accuracy: 0.8551\n",
            "Epoch 79/100\n",
            "8000/8000 [==============================] - 2s 236us/step - loss: 0.3521 - accuracy: 0.8575\n",
            "Epoch 80/100\n",
            "8000/8000 [==============================] - 2s 237us/step - loss: 0.3515 - accuracy: 0.8560\n",
            "Epoch 81/100\n",
            "8000/8000 [==============================] - 2s 236us/step - loss: 0.3509 - accuracy: 0.8553\n",
            "Epoch 82/100\n",
            "8000/8000 [==============================] - 2s 236us/step - loss: 0.3521 - accuracy: 0.8555\n",
            "Epoch 83/100\n",
            "8000/8000 [==============================] - 2s 240us/step - loss: 0.3511 - accuracy: 0.8565\n",
            "Epoch 84/100\n",
            "8000/8000 [==============================] - 2s 236us/step - loss: 0.3511 - accuracy: 0.8572\n",
            "Epoch 85/100\n",
            "8000/8000 [==============================] - 2s 234us/step - loss: 0.3515 - accuracy: 0.8562\n",
            "Epoch 86/100\n",
            "8000/8000 [==============================] - 2s 233us/step - loss: 0.3511 - accuracy: 0.8554\n",
            "Epoch 87/100\n",
            "8000/8000 [==============================] - 2s 241us/step - loss: 0.3511 - accuracy: 0.8566\n",
            "Epoch 88/100\n",
            "8000/8000 [==============================] - 2s 238us/step - loss: 0.3517 - accuracy: 0.8570\n",
            "Epoch 89/100\n",
            "8000/8000 [==============================] - 2s 235us/step - loss: 0.3510 - accuracy: 0.8571\n",
            "Epoch 90/100\n",
            "8000/8000 [==============================] - 2s 238us/step - loss: 0.3509 - accuracy: 0.8569\n",
            "Epoch 91/100\n",
            "8000/8000 [==============================] - 2s 237us/step - loss: 0.3509 - accuracy: 0.8560\n",
            "Epoch 92/100\n",
            "8000/8000 [==============================] - 2s 239us/step - loss: 0.3505 - accuracy: 0.8559\n",
            "Epoch 93/100\n",
            "8000/8000 [==============================] - 2s 239us/step - loss: 0.3508 - accuracy: 0.8576\n",
            "Epoch 94/100\n",
            "8000/8000 [==============================] - 2s 237us/step - loss: 0.3502 - accuracy: 0.8564\n",
            "Epoch 95/100\n",
            "8000/8000 [==============================] - 2s 234us/step - loss: 0.3503 - accuracy: 0.8568\n",
            "Epoch 96/100\n",
            "8000/8000 [==============================] - 2s 236us/step - loss: 0.3505 - accuracy: 0.8569\n",
            "Epoch 97/100\n",
            "8000/8000 [==============================] - 2s 236us/step - loss: 0.3505 - accuracy: 0.8561\n",
            "Epoch 98/100\n",
            "8000/8000 [==============================] - 2s 239us/step - loss: 0.3495 - accuracy: 0.8564\n",
            "Epoch 99/100\n",
            "8000/8000 [==============================] - 2s 234us/step - loss: 0.3502 - accuracy: 0.8558\n",
            "Epoch 100/100\n",
            "8000/8000 [==============================] - 2s 230us/step - loss: 0.3499 - accuracy: 0.8560\n"
          ],
          "name": "stdout"
        },
        {
          "output_type": "execute_result",
          "data": {
            "text/plain": [
              "<keras.callbacks.callbacks.History at 0x7fa1769a6978>"
            ]
          },
          "metadata": {
            "tags": []
          },
          "execution_count": 89
        }
      ]
    },
    {
      "cell_type": "code",
      "metadata": {
        "id": "DvrJxe4PSeP2",
        "colab_type": "code",
        "colab": {}
      },
      "source": [
        "y_pred = classifier.predict(X_test)"
      ],
      "execution_count": 0,
      "outputs": []
    },
    {
      "cell_type": "code",
      "metadata": {
        "id": "rbbaUVDjV1k2",
        "colab_type": "code",
        "colab": {
          "base_uri": "https://localhost:8080/",
          "height": 136
        },
        "outputId": "02bce42f-d064-4c43-d12d-f76eb586cd76"
      },
      "source": [
        "y_pred"
      ],
      "execution_count": 91,
      "outputs": [
        {
          "output_type": "execute_result",
          "data": {
            "text/plain": [
              "array([[0.17429805],\n",
              "       [0.40966034],\n",
              "       [0.20532936],\n",
              "       ...,\n",
              "       [0.08428591],\n",
              "       [0.09876032],\n",
              "       [0.23541868]], dtype=float32)"
            ]
          },
          "metadata": {
            "tags": []
          },
          "execution_count": 91
        }
      ]
    },
    {
      "cell_type": "code",
      "metadata": {
        "id": "6fXIB-MRV4hV",
        "colab_type": "code",
        "colab": {}
      },
      "source": [
        "y_pred=(y_pred > 0.5)"
      ],
      "execution_count": 0,
      "outputs": []
    },
    {
      "cell_type": "code",
      "metadata": {
        "id": "g_wQuBBQWUhV",
        "colab_type": "code",
        "colab": {
          "base_uri": "https://localhost:8080/",
          "height": 136
        },
        "outputId": "361faabe-2c70-44a6-8539-bf2353bc58f7"
      },
      "source": [
        "y_pred"
      ],
      "execution_count": 93,
      "outputs": [
        {
          "output_type": "execute_result",
          "data": {
            "text/plain": [
              "array([[False],\n",
              "       [False],\n",
              "       [False],\n",
              "       ...,\n",
              "       [False],\n",
              "       [False],\n",
              "       [False]])"
            ]
          },
          "metadata": {
            "tags": []
          },
          "execution_count": 93
        }
      ]
    },
    {
      "cell_type": "code",
      "metadata": {
        "id": "_GG1Zl-fWc4s",
        "colab_type": "code",
        "colab": {
          "base_uri": "https://localhost:8080/",
          "height": 51
        },
        "outputId": "55a1607d-2d22-4077-895f-b73d28b11c7c"
      },
      "source": [
        "from sklearn.metrics import confusion_matrix\n",
        "cm = confusion_matrix(y_test, y_pred)\n",
        "print(cm)"
      ],
      "execution_count": 94,
      "outputs": [
        {
          "output_type": "stream",
          "text": [
            "[[1534   61]\n",
            " [ 211  194]]\n"
          ],
          "name": "stdout"
        }
      ]
    },
    {
      "cell_type": "code",
      "metadata": {
        "id": "OI8pVLbhWjNm",
        "colab_type": "code",
        "colab": {
          "base_uri": "https://localhost:8080/",
          "height": 34
        },
        "outputId": "e2a2618e-e661-464d-aed4-71152dc6852e"
      },
      "source": [
        "(1475+234)/2000"
      ],
      "execution_count": 95,
      "outputs": [
        {
          "output_type": "execute_result",
          "data": {
            "text/plain": [
              "0.8545"
            ]
          },
          "metadata": {
            "tags": []
          },
          "execution_count": 95
        }
      ]
    },
    {
      "cell_type": "code",
      "metadata": {
        "id": "TNSgu7sdW7SN",
        "colab_type": "code",
        "colab": {}
      },
      "source": [
        ""
      ],
      "execution_count": 0,
      "outputs": []
    }
  ]
}